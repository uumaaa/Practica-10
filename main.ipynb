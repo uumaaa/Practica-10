{
 "cells": [
  {
   "cell_type": "code",
   "execution_count": 5,
   "metadata": {},
   "outputs": [
    {
     "name": "stdout",
     "output_type": "stream",
     "text": [
      "[1, 1, 1, 1, 0, 2, 1, 1, 1, 2, 1, 1, 1, 1, 1, 0, 1, 1, 0, 2, 1, 0, 1, 0, 0, 1, 0, 0, 2, 0, 2, 0, 1, 2, 1, 2, 0, 2, 0, 2, 0, 2, 1, 1, 2, 1, 2, 2, 2, 2, 1, 1, 2, 0, 1, 1, 0, 0, 2, 0]\n",
      "[2, 2, 2, 2, 1, 0, 0, 0, 0, 0, 1, 1, 1, 1, 0, 2, 1, 2, 1, 2, 2, 1, 1, 1, 2, 2, 2, 1, 0, 0, 1, 2, 0, 0, 1, 0, 1, 0, 0, 1, 0, 1, 2, 2, 1, 0, 2, 2, 1, 2, 0, 1, 0, 0, 0, 1, 1, 1, 2, 1]\n",
      "0.3\n"
     ]
    }
   ],
   "source": [
    "from Models import naive_bayes\n",
    "import numpy as np\n",
    "from sklearn.metrics import accuracy_score\n",
    "from sklearn.model_selection import train_test_split\n",
    "\n",
    "# Establecer la semilla para reproducibilidad\n",
    "np.random.seed(42)\n",
    "# Número de muestras por clase\n",
    "num_samples = 100\n",
    "# Características de la primera clase (entre 0 y 10)\n",
    "class1_features = np.random.uniform(0, 2, size=(num_samples, 3))\n",
    "# Características de la segunda clase (entre 15 y 20)\n",
    "class2_features = np.random.uniform(0,2, size=(num_samples, 3))\n",
    "# Etiquetas de clase: 0 para la primera clase, 1 para la segunda clase\n",
    "class3_features = np.random.uniform(0,2, size=(num_samples, 3))\n",
    "\n",
    "class1_labels = np.zeros((num_samples, 1),dtype=int)\n",
    "class2_labels = np.ones((num_samples, 1),dtype=int)\n",
    "class3_labels = np.ones((num_samples, 1),dtype=int)+1\n",
    "# Concatenar las características y etiquetas de ambas clases\n",
    "X = np.vstack((class1_features, class2_features,class3_features))\n",
    "y = np.vstack((class1_labels, class2_labels,class3_labels))\n",
    "y = [_[0] for _ in y]\n",
    "model = naive_bayes.NaiveBayesClassifier()\n",
    "X_train, X_test, y_train, y_test = train_test_split(X, y, test_size=0.20, random_state=40)\n",
    "model.fit(X_train,y_train)\n",
    "y_predict = model.predict(X_test)\n",
    "print(y_predict)\n",
    "print(y_test)\n",
    "accuracy = accuracy_score(y_test,y_predict)\n",
    "print(accuracy)"
   ]
  }
 ],
 "metadata": {
  "kernelspec": {
   "display_name": "Python 3",
   "language": "python",
   "name": "python3"
  },
  "language_info": {
   "codemirror_mode": {
    "name": "ipython",
    "version": 3
   },
   "file_extension": ".py",
   "mimetype": "text/x-python",
   "name": "python",
   "nbconvert_exporter": "python",
   "pygments_lexer": "ipython3",
   "version": "3.11.3"
  }
 },
 "nbformat": 4,
 "nbformat_minor": 2
}
